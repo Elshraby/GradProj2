{
  "nbformat": 4,
  "nbformat_minor": 0,
  "metadata": {
    "colab": {
      "provenance": [],
      "authorship_tag": "ABX9TyNYAu4evzeoNvBfXfARQjBY",
      "include_colab_link": true
    },
    "kernelspec": {
      "name": "python3",
      "display_name": "Python 3"
    },
    "language_info": {
      "name": "python"
    }
  },
  "cells": [
    {
      "cell_type": "markdown",
      "metadata": {
        "id": "view-in-github",
        "colab_type": "text"
      },
      "source": [
        "<a href=\"https://colab.research.google.com/github/Elshraby/GradProj2/blob/main/12_May_PredictionsOptuna.ipynb\" target=\"_parent\"><img src=\"https://colab.research.google.com/assets/colab-badge.svg\" alt=\"Open In Colab\"/></a>"
      ]
    },
    {
      "cell_type": "code",
      "execution_count": 1,
      "metadata": {
        "colab": {
          "base_uri": "https://localhost:8080/"
        },
        "id": "ZYaKacCLHSvh",
        "outputId": "b2e5498e-8f1b-440c-9f57-3d71017cd2cd"
      },
      "outputs": [
        {
          "output_type": "stream",
          "name": "stdout",
          "text": [
            "✅ Model loaded successfully.\n",
            "Predicted Cp: 0.1423\n"
          ]
        }
      ],
      "source": [
        "# Load a trained VAWT model from disk\n",
        "\n",
        "import torch\n",
        "import json\n",
        "import pandas as pd\n",
        "import numpy as np\n",
        "from torch.utils.data import Dataset\n",
        "import torch.nn as nn\n",
        "\n",
        "class StandardVAWTNet(nn.Module):\n",
        "    def __init__(self, num_feature_size, airfoil_vocab_size, emb_size=4, hidden_size=128, dropout=0.2):\n",
        "        super(StandardVAWTNet, self).__init__()\n",
        "        self.airfoil_embedding = nn.Embedding(airfoil_vocab_size, emb_size)\n",
        "        input_size = num_feature_size + emb_size\n",
        "        self.model = nn.Sequential(\n",
        "            nn.Linear(input_size, hidden_size),\n",
        "            nn.ReLU(),\n",
        "            nn.Dropout(dropout),\n",
        "            nn.Linear(hidden_size, hidden_size // 2),\n",
        "            nn.ReLU(),\n",
        "            nn.Dropout(dropout),\n",
        "            nn.Linear(hidden_size // 2, 1)\n",
        "        )\n",
        "\n",
        "    def forward(self, num_features, airfoil_type):\n",
        "        emb = self.airfoil_embedding(airfoil_type)\n",
        "        combined = torch.cat([num_features, emb], dim=1)\n",
        "        return self.model(combined)\n",
        "\n",
        "# Load model metadata\n",
        "with open(\"best_model_metadata.json\", \"r\") as f:\n",
        "    metadata = json.load(f)\n",
        "\n",
        "# Instantiate the model\n",
        "model = StandardVAWTNet(\n",
        "    num_feature_size=metadata[\"input_dim\"],\n",
        "    airfoil_vocab_size=metadata[\"airfoil_vocab_size\"],\n",
        "    hidden_size=metadata[\"hidden_size\"],\n",
        "    dropout=metadata[\"dropout\"]\n",
        ")\n",
        "\n",
        "# Load the trained weights\n",
        "model.load_state_dict(torch.load(\"best_vawt_model.pth\"))\n",
        "model.eval()\n",
        "print(\"✅ Model loaded successfully.\")\n",
        "\n",
        "# Optional prediction function\n",
        "def predict(model, num_features, airfoil_code):\n",
        "    with torch.no_grad():\n",
        "        num_tensor = torch.tensor([num_features], dtype=torch.float32)\n",
        "        airfoil_tensor = torch.tensor([airfoil_code], dtype=torch.int64)\n",
        "        pred = model(num_tensor, airfoil_tensor)\n",
        "        return pred.item()\n",
        "\n",
        "# Example usage\n",
        "# Replace with real values from your dataset:\n",
        "sample_input = [3, 0.2, 0.5, 0.6, 0, 7.0, 1.2]  # example numerical features\n",
        "sample_airfoil_code = 0  # you should map this from category encoding\n",
        "predicted_cp = predict(model, sample_input, sample_airfoil_code)\n",
        "print(f\"Predicted Cp: {predicted_cp:.4f}\")"
      ]
    }
  ]
}