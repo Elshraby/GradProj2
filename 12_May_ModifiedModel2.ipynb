{
  "nbformat": 4,
  "nbformat_minor": 0,
  "metadata": {
    "colab": {
      "provenance": [],
      "authorship_tag": "ABX9TyNJR9xL/arvqF5C2hYXwlRh",
      "include_colab_link": true
    },
    "kernelspec": {
      "name": "python3",
      "display_name": "Python 3"
    },
    "language_info": {
      "name": "python"
    }
  },
  "cells": [
    {
      "cell_type": "markdown",
      "metadata": {
        "id": "view-in-github",
        "colab_type": "text"
      },
      "source": [
        "<a href=\"https://colab.research.google.com/github/Elshraby/GradProj2/blob/main/12_May_ModifiedModel2.ipynb\" target=\"_parent\"><img src=\"https://colab.research.google.com/assets/colab-badge.svg\" alt=\"Open In Colab\"/></a>"
      ]
    },
    {
      "cell_type": "code",
      "execution_count": 7,
      "metadata": {
        "id": "h6Ra7rivp7P3"
      },
      "outputs": [],
      "source": [
        "import torch\n",
        "import torch.nn as nn\n",
        "import torch.optim as optim\n",
        "import pandas as pd\n",
        "import numpy as np\n",
        "import json\n",
        "import matplotlib.pyplot as plt\n",
        "from torch.utils.data import Dataset, DataLoader, Subset\n",
        "from sklearn.model_selection import train_test_split\n",
        "from sklearn.metrics import mean_squared_error, mean_absolute_error, r2_score\n",
        "import csv\n",
        "import os"
      ]
    },
    {
      "cell_type": "code",
      "source": [
        "class VAWTDataset(Dataset):\n",
        "    def __init__(self, csv_file):\n",
        "        self.data = pd.read_csv(csv_file)\n",
        "        self.data.dropna(inplace=True)\n",
        "\n",
        "        self.num_feature_columns = [\n",
        "            'Number of Blades', 'Cord Length', 'Height',\n",
        "            'Diameter', 'Pitch Angle', 'Freestream Velocity', 'Tip Speed Ratio'\n",
        "        ]\n",
        "        self.airfoil_column = 'Airfoil'\n",
        "        self.target_column = 'Power Coefficient'\n",
        "\n",
        "        self.num_features = self.data[self.num_feature_columns].values.astype(np.float32)\n",
        "        airfoil_cat = self.data[self.airfoil_column].astype('category')\n",
        "        self.airfoil_type = airfoil_cat.cat.codes.values.astype(np.int64)\n",
        "        self.airfoil_mapping = dict(enumerate(airfoil_cat.cat.categories))\n",
        "        self.targets = self.data[self.target_column].values.astype(np.float32).reshape(-1, 1)\n",
        "\n",
        "    def __len__(self):\n",
        "        return len(self.data)\n",
        "\n",
        "    def __getitem__(self, idx):\n",
        "        return {\n",
        "            'num_features': torch.tensor(self.num_features[idx]),\n",
        "            'airfoil_type': torch.tensor(self.airfoil_type[idx]),\n",
        "            'target': torch.tensor(self.targets[idx])\n",
        "        }"
      ],
      "metadata": {
        "id": "g25WApg0qAto"
      },
      "execution_count": 8,
      "outputs": []
    },
    {
      "cell_type": "code",
      "source": [
        "class StandardVAWTNet(nn.Module):\n",
        "    def __init__(self, num_feature_size, airfoil_vocab_size, emb_size=4, hidden_size=128):\n",
        "        super(StandardVAWTNet, self).__init__()\n",
        "        self.airfoil_embedding = nn.Embedding(airfoil_vocab_size, emb_size)\n",
        "        input_size = num_feature_size + emb_size\n",
        "\n",
        "        self.model = nn.Sequential(\n",
        "            nn.Linear(input_size, hidden_size),\n",
        "            nn.BatchNorm1d(hidden_size),\n",
        "            nn.ReLU(),\n",
        "            nn.Dropout(0.2),\n",
        "            nn.Linear(hidden_size, hidden_size // 2),\n",
        "            nn.ReLU(),\n",
        "            nn.Linear(hidden_size // 2, hidden_size // 4),\n",
        "            nn.ReLU(),\n",
        "            nn.Linear(hidden_size // 4, 1)\n",
        "        )\n",
        "\n",
        "    def forward(self, num_features, airfoil_type):\n",
        "        emb = self.airfoil_embedding(airfoil_type)\n",
        "        combined = torch.cat([num_features, emb], dim=1)\n",
        "        return self.model(combined)"
      ],
      "metadata": {
        "id": "tOkHtBEkrXj8"
      },
      "execution_count": 9,
      "outputs": []
    },
    {
      "cell_type": "code",
      "source": [
        "class EarlyStopping:\n",
        "    def __init__(self, patience=20, verbose=False):\n",
        "        self.patience = patience\n",
        "        self.verbose = verbose\n",
        "        self.counter = 0\n",
        "        self.best_loss = None\n",
        "        self.early_stop = False\n",
        "\n",
        "    def __call__(self, val_loss):\n",
        "        if self.best_loss is None or val_loss < self.best_loss:\n",
        "            self.best_loss = val_loss\n",
        "            self.counter = 0\n",
        "        else:\n",
        "            self.counter += 1\n",
        "            if self.verbose:\n",
        "                print(f\"EarlyStopping counter: {self.counter} / {self.patience}\")\n",
        "            if self.counter >= self.patience:\n",
        "                self.early_stop = True"
      ],
      "metadata": {
        "id": "lLwJoN7PqLve"
      },
      "execution_count": 10,
      "outputs": []
    },
    {
      "cell_type": "code",
      "source": [
        "def train_model_with_logging(\n",
        "    model, train_loader, val_loader,\n",
        "    num_epochs=500, learning_rate=1e-3,\n",
        "    log_file='training_log.csv',\n",
        "    patience=30\n",
        "):\n",
        "    criterion = nn.MSELoss()\n",
        "    optimizer = optim.Adam(model.parameters(), lr=learning_rate)\n",
        "    scheduler = torch.optim.lr_scheduler.StepLR(optimizer, step_size=200, gamma=0.5)\n",
        "\n",
        "    early_stopper = EarlyStopping(patience=patience, verbose=True)\n",
        "\n",
        "    train_losses = []\n",
        "    val_losses = []\n",
        "\n",
        "    if os.path.exists(log_file):\n",
        "        os.remove(log_file)\n",
        "\n",
        "    with open(log_file, mode='w', newline='') as file:\n",
        "        writer = csv.writer(file)\n",
        "        writer.writerow(['epoch', 'train_loss', 'val_loss'])\n",
        "\n",
        "        for epoch in range(num_epochs):\n",
        "            model.train()\n",
        "            running_loss = 0.0\n",
        "            for batch in train_loader:\n",
        "                inputs = batch['num_features']\n",
        "                airfoil_types = batch['airfoil_type']\n",
        "                targets = batch['target']\n",
        "                optimizer.zero_grad()\n",
        "                outputs = model(inputs, airfoil_types)\n",
        "                loss = criterion(outputs, targets)\n",
        "                loss.backward()\n",
        "                optimizer.step()\n",
        "                running_loss += loss.item()\n",
        "\n",
        "            train_loss = running_loss / len(train_loader)\n",
        "            train_losses.append(train_loss)\n",
        "\n",
        "            model.eval()\n",
        "            val_loss = 0.0\n",
        "            with torch.no_grad():\n",
        "                for batch in val_loader:\n",
        "                    inputs = batch['num_features']\n",
        "                    airfoil_types = batch['airfoil_type']\n",
        "                    targets = batch['target']\n",
        "                    outputs = model(inputs, airfoil_types)\n",
        "                    loss = criterion(outputs, targets)\n",
        "                    val_loss += loss.item()\n",
        "\n",
        "            val_loss /= len(val_loader)\n",
        "            val_losses.append(val_loss)\n",
        "\n",
        "            writer.writerow([epoch + 1, train_loss, val_loss])\n",
        "\n",
        "            if (epoch + 1) % 50 == 0:\n",
        "                print(f\"Epoch [{epoch+1}/{num_epochs}], Train Loss: {train_loss:.6f}, Val Loss: {val_loss:.6f}\")\n",
        "\n",
        "            scheduler.step()\n",
        "\n",
        "            early_stopper(val_loss)\n",
        "            if early_stopper.early_stop:\n",
        "                print(f\"⏹️ Early stopping at epoch {epoch+1}\")\n",
        "                break\n",
        "\n",
        "    # Plot\n",
        "    plt.plot(train_losses, label='Train Loss')\n",
        "    plt.plot(val_losses, label='Validation Loss')\n",
        "    plt.title('Training vs Validation Loss')\n",
        "    plt.xlabel('Epoch')\n",
        "    plt.ylabel('Loss (MSE)')\n",
        "    plt.legend()\n",
        "    plt.grid(True)\n",
        "    plt.tight_layout()\n",
        "    plt.show()"
      ],
      "metadata": {
        "id": "4oWZ0YXYqPy2"
      },
      "execution_count": 11,
      "outputs": []
    },
    {
      "cell_type": "code",
      "source": [
        "# Load full dataset\n",
        "dataset = VAWTDataset('Data.csv')\n",
        "input_dim = len(dataset.num_feature_columns)\n",
        "airfoil_vocab_size = int(dataset.airfoil_type.max()) + 1\n",
        "\n",
        "# Split indices\n",
        "indices = np.arange(len(dataset))\n",
        "train_idx, temp_idx = train_test_split(indices, test_size=0.3, random_state=42)\n",
        "val_idx, test_idx = train_test_split(temp_idx, test_size=0.5, random_state=42)\n",
        "\n",
        "# Dataloaders\n",
        "train_loader = DataLoader(Subset(dataset, train_idx), batch_size=32, shuffle=True)\n",
        "val_loader = DataLoader(Subset(dataset, val_idx), batch_size=32, shuffle=False)\n",
        "test_loader = DataLoader(Subset(dataset, test_idx), batch_size=32, shuffle=False)"
      ],
      "metadata": {
        "id": "NUKslO_zqR12"
      },
      "execution_count": 12,
      "outputs": []
    },
    {
      "cell_type": "code",
      "source": [
        "model = StandardVAWTNet(input_dim, airfoil_vocab_size)\n",
        "train_model_with_logging(\n",
        "    model,\n",
        "    train_loader,\n",
        "    val_loader,\n",
        "    num_epochs=1000,\n",
        "    learning_rate=1e-3,\n",
        "    log_file='training_log.csv',\n",
        "    patience=30\n",
        ")"
      ],
      "metadata": {
        "id": "FLBsOD-7qUpA",
        "colab": {
          "base_uri": "https://localhost:8080/",
          "height": 1000
        },
        "outputId": "5f2bc130-4cde-4435-f53d-7389ce4d1da7"
      },
      "execution_count": 13,
      "outputs": [
        {
          "output_type": "stream",
          "name": "stdout",
          "text": [
            "EarlyStopping counter: 1 / 30\n",
            "EarlyStopping counter: 2 / 30\n",
            "EarlyStopping counter: 3 / 30\n",
            "EarlyStopping counter: 1 / 30\n",
            "EarlyStopping counter: 1 / 30\n",
            "EarlyStopping counter: 2 / 30\n",
            "EarlyStopping counter: 3 / 30\n",
            "EarlyStopping counter: 4 / 30\n",
            "EarlyStopping counter: 5 / 30\n",
            "EarlyStopping counter: 6 / 30\n",
            "EarlyStopping counter: 1 / 30\n",
            "EarlyStopping counter: 2 / 30\n",
            "EarlyStopping counter: 1 / 30\n",
            "EarlyStopping counter: 2 / 30\n",
            "EarlyStopping counter: 1 / 30\n",
            "EarlyStopping counter: 2 / 30\n",
            "EarlyStopping counter: 3 / 30\n",
            "EarlyStopping counter: 4 / 30\n",
            "EarlyStopping counter: 1 / 30\n",
            "EarlyStopping counter: 2 / 30\n",
            "EarlyStopping counter: 3 / 30\n",
            "EarlyStopping counter: 4 / 30\n",
            "EarlyStopping counter: 5 / 30\n",
            "EarlyStopping counter: 6 / 30\n",
            "EarlyStopping counter: 7 / 30\n",
            "EarlyStopping counter: 8 / 30\n",
            "EarlyStopping counter: 9 / 30\n",
            "EarlyStopping counter: 10 / 30\n",
            "EarlyStopping counter: 11 / 30\n",
            "EarlyStopping counter: 12 / 30\n",
            "EarlyStopping counter: 13 / 30\n",
            "EarlyStopping counter: 14 / 30\n",
            "EarlyStopping counter: 15 / 30\n",
            "EarlyStopping counter: 16 / 30\n",
            "EarlyStopping counter: 17 / 30\n",
            "EarlyStopping counter: 18 / 30\n",
            "EarlyStopping counter: 19 / 30\n",
            "Epoch [50/1000], Train Loss: 0.004182, Val Loss: 0.004479\n",
            "EarlyStopping counter: 1 / 30\n",
            "EarlyStopping counter: 1 / 30\n",
            "EarlyStopping counter: 1 / 30\n",
            "EarlyStopping counter: 2 / 30\n",
            "EarlyStopping counter: 3 / 30\n",
            "EarlyStopping counter: 4 / 30\n",
            "EarlyStopping counter: 5 / 30\n",
            "EarlyStopping counter: 6 / 30\n",
            "EarlyStopping counter: 7 / 30\n",
            "EarlyStopping counter: 8 / 30\n",
            "EarlyStopping counter: 9 / 30\n",
            "EarlyStopping counter: 1 / 30\n",
            "EarlyStopping counter: 2 / 30\n",
            "EarlyStopping counter: 3 / 30\n",
            "EarlyStopping counter: 4 / 30\n",
            "EarlyStopping counter: 5 / 30\n",
            "EarlyStopping counter: 6 / 30\n",
            "EarlyStopping counter: 7 / 30\n",
            "EarlyStopping counter: 8 / 30\n",
            "EarlyStopping counter: 9 / 30\n",
            "EarlyStopping counter: 10 / 30\n",
            "EarlyStopping counter: 11 / 30\n",
            "EarlyStopping counter: 12 / 30\n",
            "EarlyStopping counter: 13 / 30\n",
            "EarlyStopping counter: 14 / 30\n",
            "EarlyStopping counter: 15 / 30\n",
            "EarlyStopping counter: 16 / 30\n",
            "EarlyStopping counter: 17 / 30\n",
            "EarlyStopping counter: 18 / 30\n",
            "EarlyStopping counter: 19 / 30\n",
            "EarlyStopping counter: 20 / 30\n",
            "EarlyStopping counter: 21 / 30\n",
            "EarlyStopping counter: 22 / 30\n",
            "EarlyStopping counter: 23 / 30\n",
            "EarlyStopping counter: 24 / 30\n",
            "EarlyStopping counter: 25 / 30\n",
            "EarlyStopping counter: 1 / 30\n",
            "EarlyStopping counter: 2 / 30\n",
            "EarlyStopping counter: 3 / 30\n",
            "EarlyStopping counter: 4 / 30\n",
            "EarlyStopping counter: 5 / 30\n",
            "EarlyStopping counter: 6 / 30\n",
            "EarlyStopping counter: 7 / 30\n",
            "EarlyStopping counter: 8 / 30\n",
            "EarlyStopping counter: 9 / 30\n",
            "EarlyStopping counter: 10 / 30\n",
            "Epoch [100/1000], Train Loss: 0.003258, Val Loss: 0.003690\n",
            "EarlyStopping counter: 11 / 30\n",
            "EarlyStopping counter: 12 / 30\n",
            "EarlyStopping counter: 13 / 30\n",
            "EarlyStopping counter: 14 / 30\n",
            "EarlyStopping counter: 1 / 30\n",
            "EarlyStopping counter: 2 / 30\n",
            "EarlyStopping counter: 3 / 30\n",
            "EarlyStopping counter: 4 / 30\n",
            "EarlyStopping counter: 5 / 30\n",
            "EarlyStopping counter: 6 / 30\n",
            "EarlyStopping counter: 7 / 30\n",
            "EarlyStopping counter: 8 / 30\n",
            "EarlyStopping counter: 9 / 30\n",
            "EarlyStopping counter: 10 / 30\n",
            "EarlyStopping counter: 11 / 30\n",
            "EarlyStopping counter: 12 / 30\n",
            "EarlyStopping counter: 13 / 30\n",
            "EarlyStopping counter: 14 / 30\n",
            "EarlyStopping counter: 15 / 30\n",
            "EarlyStopping counter: 16 / 30\n",
            "EarlyStopping counter: 17 / 30\n",
            "EarlyStopping counter: 18 / 30\n",
            "EarlyStopping counter: 19 / 30\n",
            "EarlyStopping counter: 20 / 30\n",
            "EarlyStopping counter: 21 / 30\n",
            "EarlyStopping counter: 22 / 30\n",
            "EarlyStopping counter: 23 / 30\n",
            "EarlyStopping counter: 24 / 30\n",
            "EarlyStopping counter: 25 / 30\n",
            "EarlyStopping counter: 26 / 30\n",
            "EarlyStopping counter: 27 / 30\n",
            "EarlyStopping counter: 28 / 30\n",
            "EarlyStopping counter: 29 / 30\n",
            "EarlyStopping counter: 30 / 30\n",
            "⏹️ Early stopping at epoch 134\n"
          ]
        },
        {
          "output_type": "display_data",
          "data": {
            "text/plain": [
              "<Figure size 640x480 with 1 Axes>"
            ],
            "image/png": "[encoded data removed]"
          },
          "metadata": {}
        }
      ]
    },
    {
      "cell_type": "code",
      "source": [
        "def evaluate_model(model, dataloader):\n",
        "    model.eval()\n",
        "    y_true = []\n",
        "    y_pred = []\n",
        "    with torch.no_grad():\n",
        "        for batch in dataloader:\n",
        "            inputs = batch['num_features']\n",
        "            airfoil_types = batch['airfoil_type']\n",
        "            targets = batch['target']\n",
        "            outputs = model(inputs, airfoil_types)\n",
        "            y_true.append(targets.numpy())\n",
        "            y_pred.append(outputs.numpy())\n",
        "    y_true = np.vstack(y_true).flatten()\n",
        "    y_pred = np.vstack(y_pred).flatten()\n",
        "    mae = mean_absolute_error(y_true, y_pred)\n",
        "    mse = mean_squared_error(y_true, y_pred)\n",
        "    rmse = np.sqrt(mse)\n",
        "    r2 = r2_score(y_true, y_pred)\n",
        "    print(f\"MAE: {mae:.6f}, MSE: {mse:.6f}, RMSE: {rmse:.6f}, R²: {r2:.6f}\")\n",
        "    return mae, mse, rmse, r2"
      ],
      "metadata": {
        "id": "IZJCVgJ0sR4J"
      },
      "execution_count": 14,
      "outputs": []
    },
    {
      "cell_type": "code",
      "source": [
        "evaluate_model(model, test_loader)"
      ],
      "metadata": {
        "id": "d5_-qrGWqWUW",
        "colab": {
          "base_uri": "https://localhost:8080/"
        },
        "outputId": "a06eb8ec-f364-41f1-c877-7a8bef6ca4c8"
      },
      "execution_count": 15,
      "outputs": [
        {
          "output_type": "stream",
          "name": "stdout",
          "text": [
            "MAE: 0.034403, MSE: 0.003012, RMSE: 0.054880, R²: 0.782725\n"
          ]
        },
        {
          "output_type": "execute_result",
          "data": {
            "text/plain": [
              "(0.034402646124362946,\n",
              " 0.003011852502822876,\n",
              " np.float64(0.054880347145611935),\n",
              " 0.7827250361442566)"
            ]
          },
          "metadata": {},
          "execution_count": 15
        }
      ]
    }
  ]
}