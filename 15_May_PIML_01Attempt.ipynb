{
  "nbformat": 4,
  "nbformat_minor": 0,
  "metadata": {
    "colab": {
      "provenance": [],
      "authorship_tag": "ABX9TyPnaZ3IEv2LDqOyO2x1zytL",
      "include_colab_link": true
    },
    "kernelspec": {
      "name": "python3",
      "display_name": "Python 3"
    },
    "language_info": {
      "name": "python"
    }
  },
  "cells": [
    {
      "cell_type": "markdown",
      "metadata": {
        "id": "view-in-github",
        "colab_type": "text"
      },
      "source": [
        "<a href=\"https://colab.research.google.com/github/Elshraby/GradProj2/blob/main/15_May_PIML_01Attempt.ipynb\" target=\"_parent\"><img src=\"https://colab.research.google.com/assets/colab-badge.svg\" alt=\"Open In Colab\"/></a>"
      ]
    },
    {
      "cell_type": "markdown",
      "source": [
        "Replace embeddings with real airfoil parameters: lift slope, stall angle, max Cl, drag bucket, etc.\n",
        "\n",
        "Or: encode the full C_L(α) and C_D(α) curves as tabulated inputs (e.g., mini-networks or interpolators)."
      ],
      "metadata": {
        "id": "YSgUQ87avUmO"
      }
    },
    {
      "cell_type": "code",
      "execution_count": null,
      "metadata": {
        "id": "aWXtGH8JuRRx"
      },
      "outputs": [],
      "source": [
        "# --- Google Colab-ready Physics-Informed Surrogate Model for H-Darrieus VAWT ---\n",
        "\n",
        "# 🟦 STEP 1: Setup\n",
        "import torch\n",
        "import torch.nn as nn\n",
        "import pandas as pd\n",
        "import numpy as np\n",
        "from torch.utils.data import Dataset, DataLoader\n",
        "import matplotlib.pyplot as plt\n",
        "\n",
        "# Set random seed\n",
        "torch.manual_seed(42)\n",
        "np.random.seed(42)"
      ]
    },
    {
      "cell_type": "code",
      "source": [
        "# 🟦 STEP 2: Load Dataset\n",
        "csv_path = 'Data.csv'  # Replace with your CSV\n",
        "raw_df = pd.read_csv(csv_path)\n",
        "raw_df.dropna(inplace=True)\n",
        "\n",
        "# 🟦 STEP 3: Custom Dataset\n",
        "class VAWTDataset(Dataset):\n",
        "    def __init__(self, dataframe):\n",
        "        self.df = dataframe.reset_index(drop=True)\n",
        "\n",
        "        self.num_feature_cols = ['Number of Blades', 'Cord Length', 'Height',\n",
        "                                 'Diameter', 'Pitch Angle', 'Freestream Velocity', 'Tip Speed Ratio']\n",
        "        self.airfoil_col = 'Airfoil'\n",
        "        self.target_col = 'Power Coefficient'\n",
        "\n",
        "        self.num_features = self.df[self.num_feature_cols].values.astype(np.float32)\n",
        "        airfoil_cat = self.df[self.airfoil_col].astype('category')\n",
        "        self.airfoil_codes = airfoil_cat.cat.codes.values.astype(np.int64)\n",
        "        self.airfoil_mapping = dict(enumerate(airfoil_cat.cat.categories))\n",
        "        self.targets = self.df[self.target_col].values.astype(np.float32).reshape(-1, 1)\n",
        "\n",
        "    def __len__(self):\n",
        "        return len(self.df)\n",
        "\n",
        "    def __getitem__(self, idx):\n",
        "        return {\n",
        "            'num_features': torch.tensor(self.num_features[idx]),\n",
        "            'airfoil_type': torch.tensor(self.airfoil_codes[idx]),\n",
        "            'target': torch.tensor(self.targets[idx])\n",
        "        }"
      ],
      "metadata": {
        "id": "tnf7Man2wmir"
      },
      "execution_count": null,
      "outputs": []
    },
    {
      "cell_type": "code",
      "source": [
        "# 🟦 STEP 4: Physics Equation Function\n",
        "\n",
        "def bem_cp_batch(num_feat, airfoil_slope=2*np.pi):\n",
        "    N, c, _, D, pitch, U_inf, TSR = [num_feat[:,i] for i in range(7)]\n",
        "    R = D / 2.0\n",
        "    λ = TSR\n",
        "    B = N\n",
        "    thetas = torch.linspace(0, 2*np.pi, steps=32, device=num_feat.device)\n",
        "    dθ = thetas[1] - thetas[0]\n",
        "    cp_vals = []\n",
        "    for i in range(num_feat.size(0)):\n",
        "        integrand = []\n",
        "        for θ in thetas:\n",
        "            W = U_inf[i] * torch.sqrt(1 + 2*λ[i]*torch.cos(θ) + λ[i]**2)\n",
        "            φ = torch.atan2(U_inf[i]*torch.sin(θ), λ[i]*U_inf[i] + U_inf[i]*torch.cos(θ))\n",
        "            α = φ - pitch[i]*np.pi/180\n",
        "            C_L = airfoil_slope * α\n",
        "            C_D = 0.01 + 0.02*(C_L**2)\n",
        "            L = 0.5 * 1.225 * W**2 * c[i] * C_L\n",
        "            D_ = 0.5 * 1.225 * W**2 * c[i] * C_D\n",
        "            T = L*torch.cos(φ) - D_*torch.sin(φ)\n",
        "            integrand.append(T * (λ[i]*U_inf[i]) * R[i])\n",
        "        integral = torch.stack(integrand).sum() * dθ\n",
        "        P = B[i] * integral / (2*np.pi)\n",
        "        P_ref = 0.5 * 1.225 * (np.pi*R[i]**2) * U_inf[i]**3\n",
        "        cp_vals.append(P / P_ref)\n",
        "    return torch.stack(cp_vals).unsqueeze(1)\n",
        "\n",
        "# 🟦 STEP 5: Neural Network Model with Airfoil Embedding\n",
        "\n",
        "class PhysicsInformedVAWT(nn.Module):\n",
        "    def __init__(self, in_size, airfoil_vocab, emb_size=4, hidden=64):\n",
        "        super().__init__()\n",
        "        self.emb = nn.Embedding(airfoil_vocab, emb_size)\n",
        "        self.net = nn.Sequential(\n",
        "            nn.Linear(in_size+emb_size, hidden),\n",
        "            nn.ReLU(),\n",
        "            nn.Linear(hidden, hidden//2),\n",
        "            nn.ReLU(),\n",
        "            nn.Linear(hidden//2, 1)\n",
        "        )\n",
        "\n",
        "    def forward(self, x_num, x_air):\n",
        "        emb = self.emb(x_air)\n",
        "        return self.net(torch.cat([x_num, emb], dim=1))"
      ],
      "metadata": {
        "id": "i4nFG0n7wpYq"
      },
      "execution_count": null,
      "outputs": []
    },
    {
      "cell_type": "code",
      "source": [
        "# 🟦 STEP 6: Train Function with Physics Loss\n",
        "\n",
        "def train_phys_informed(model, loader, num_epochs=200, α=0.1, lr=1e-3):\n",
        "    opt = torch.optim.Adam(model.parameters(), lr=lr)\n",
        "    mse = nn.MSELoss()\n",
        "    model.train()\n",
        "    for ep in range(num_epochs):\n",
        "        total_loss = 0\n",
        "        for batch in loader:\n",
        "            x_num = batch['num_features']\n",
        "            x_air = batch['airfoil_type']\n",
        "            y_true = batch['target']\n",
        "\n",
        "            y_pred = model(x_num, x_air)\n",
        "            loss_data = mse(y_pred, y_true)\n",
        "            cp_phys = bem_cp_batch(x_num)\n",
        "            loss_phys = mse(y_pred, cp_phys)\n",
        "            loss = loss_data + α*loss_phys\n",
        "\n",
        "            opt.zero_grad(); loss.backward(); opt.step()\n",
        "            total_loss += loss.item()\n",
        "        if (ep+1)%20==0:\n",
        "            print(f\"Epoch {ep+1}: Loss = {total_loss/len(loader):.5f}\")"
      ],
      "metadata": {
        "id": "VAJB5nHBwscC"
      },
      "execution_count": null,
      "outputs": []
    },
    {
      "cell_type": "code",
      "source": [
        "# 🟦 STEP 7: Train Model\n",
        "\n",
        "dataset = VAWTDataset(raw_df)\n",
        "train_loader = DataLoader(dataset, batch_size=32, shuffle=True)\n",
        "input_dim = len(dataset.num_feature_cols)\n",
        "airfoil_vocab_size = int(dataset.airfoil_codes.max()) + 1\n",
        "\n",
        "model = PhysicsInformedVAWT(input_dim, airfoil_vocab_size)\n",
        "train_phys_informed(model, train_loader, num_epochs=300, α=0.1, lr=1e-3)"
      ],
      "metadata": {
        "id": "OW4Fp74IwuLL"
      },
      "execution_count": null,
      "outputs": []
    },
    {
      "cell_type": "code",
      "source": [
        "# 🟦 STEP 8: Save Model\n",
        "\n",
        "torch.save(model.state_dict(), 'vawt_physics_model.pth')\n",
        "with open('vawt_model_meta.json', 'w') as f:\n",
        "    import json\n",
        "    json.dump({\"input_dim\": input_dim, \"airfoil_vocab_size\": airfoil_vocab_size}, f)\n",
        "\n",
        "print(\"✅ Model saved successfully.\")"
      ],
      "metadata": {
        "id": "ZTXfxYmuwwla"
      },
      "execution_count": null,
      "outputs": []
    },
    {
      "cell_type": "code",
      "source": [
        "# 🟦 STEP 9: Predict on New Sample\n",
        "\n",
        "def predict_cp(model, input_features, airfoil_name, airfoil_mapping):\n",
        "    rev_map = {v:k for k,v in airfoil_mapping.items()}\n",
        "    airfoil_code = rev_map[airfoil_name]\n",
        "    model.eval()\n",
        "    with torch.no_grad():\n",
        "        x = torch.tensor([input_features], dtype=torch.float32)\n",
        "        a = torch.tensor([airfoil_code], dtype=torch.int64)\n",
        "        y = model(x, a)\n",
        "    return y.item()"
      ],
      "metadata": {
        "id": "vfCAWd_rwx5q"
      },
      "execution_count": null,
      "outputs": []
    },
    {
      "cell_type": "code",
      "source": [
        "# 🔍 Example:\n",
        "sample = [3, 0.2, 0.5, 0.6, 0.0, 7.0, 1.2]  # example design vector\n",
        "pred = predict_cp(model, sample, 'NACA0015', dataset.airfoil_mapping)\n",
        "print(f\"Predicted Cp: {pred:.4f}\")"
      ],
      "metadata": {
        "id": "AybJHjb5wzN6"
      },
      "execution_count": null,
      "outputs": []
    },
    {
      "cell_type": "markdown",
      "source": [
        "Now, Will need to change the angle of attack for each blade at each position per revolution for each blade. or just will compute like and I'm assuming ~ at the optimum value.\n",
        "\n",
        "What will happen the unkown airfoils. should be excluded for this PINN model?"
      ],
      "metadata": {
        "id": "Y_0ugfuoxqJ4"
      }
    }
  ]
}