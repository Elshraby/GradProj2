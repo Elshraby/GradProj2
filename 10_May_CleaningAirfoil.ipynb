{
  "nbformat": 4,
  "nbformat_minor": 0,
  "metadata": {
    "colab": {
      "provenance": [],
      "authorship_tag": "ABX9TyMqygA69BKTU+/rpK2enCnv",
      "include_colab_link": true
    },
    "kernelspec": {
      "name": "python3",
      "display_name": "Python 3"
    },
    "language_info": {
      "name": "python"
    }
  },
  "cells": [
    {
      "cell_type": "markdown",
      "metadata": {
        "id": "view-in-github",
        "colab_type": "text"
      },
      "source": [
        "<a href=\"https://colab.research.google.com/github/Elshraby/GradProj2/blob/main/10_May_CleaningAirfoil.ipynb\" target=\"_parent\"><img src=\"https://colab.research.google.com/assets/colab-badge.svg\" alt=\"Open In Colab\"/></a>"
      ]
    },
    {
      "cell_type": "code",
      "source": [
        "import pandas as pd\n",
        "import numpy as np"
      ],
      "metadata": {
        "id": "VchvB0pqgzlR"
      },
      "execution_count": null,
      "outputs": []
    },
    {
      "cell_type": "code",
      "execution_count": null,
      "metadata": {
        "colab": {
          "base_uri": "https://localhost:8080/"
        },
        "id": "L88aWHKQbRGK",
        "outputId": "aff4861f-d958-462b-e285-793d368f32c0"
      },
      "outputs": [
        {
          "output_type": "stream",
          "name": "stdout",
          "text": [
            "Airfoil\n",
            "NACA0018      1261\n",
            "NACA0021      1188\n",
            "NACA0015       896\n",
            "EN0005         339\n",
            "NACA0022       120\n",
            "DU06W200       107\n",
            "NACA0012        99\n",
            "DU93-W-210      74\n",
            "NACA0024        61\n",
            "NACA63-415      43\n",
            "NACA0030        32\n",
            "NACA4418        28\n",
            "NACA0025        28\n",
            "NACA4312        21\n",
            "NACA4518        20\n",
            "NACA0017        19\n",
            "S815            17\n",
            "AIR001          12\n",
            "NACA4415        10\n",
            "LS(1)-0413       8\n",
            "NACA63-218       7\n",
            "NACA63-215       7\n",
            "NACA63-418       7\n",
            "S1046            7\n",
            "NACA65-415       7\n",
            "NACA65-421       7\n",
            "NACA63-421       6\n",
            "NACA63-221       6\n",
            "LS(1)-0417       6\n",
            "NACA2415         6\n",
            "S809             5\n",
            "S1223            5\n",
            "Name: count, dtype: int64\n"
          ]
        }
      ],
      "source": [
        "df = pd.read_csv('Data.csv')\n",
        "\n",
        "# Preview unique airfoil names and their frequencies\n",
        "airfoil_counts = df['Airfoil'].value_counts()\n",
        "print(airfoil_counts)"
      ]
    },
    {
      "cell_type": "code",
      "source": [
        "# Standardize casing and remove extra whitespace\n",
        "df['Airfoil'] = df['Airfoil'].str.upper().str.strip()\n",
        "\n",
        "# Manual mapping to unify similar ones\n",
        "airfoil_mapping = {\n",
        "    'NACA 0015': 'NACA0015',\n",
        "    '0015': 'NACA0015',\n",
        "    'NACA-0015': 'NACA0015',\n",
        "    'NACA0012': 'NACA0012',\n",
        "    '0012': 'NACA0012',\n",
        "    'NACA 0021': 'NACA0021',\n",
        "    '0021': 'NACA0021',\n",
        "    # You can add more mappings if needed\n",
        "}\n",
        "\n",
        "df['Airfoil'] = df['Airfoil'].replace(airfoil_mapping)"
      ],
      "metadata": {
        "id": "Yt6MHEXFbdAs"
      },
      "execution_count": null,
      "outputs": []
    },
    {
      "cell_type": "code",
      "source": [
        "# Count frequencies\n",
        "airfoil_counts = df['Airfoil'].value_counts()\n",
        "common_airfoils = airfoil_counts[airfoil_counts >= 5].index.tolist()\n",
        "\n",
        "# Filter dataset\n",
        "df = df[df['Airfoil'].isin(common_airfoils)]\n",
        "\n",
        "print(\"✅ Retained airfoils:\")\n",
        "print(df['Airfoil'].value_counts())"
      ],
      "metadata": {
        "colab": {
          "base_uri": "https://localhost:8080/"
        },
        "id": "kHdKimxNbfSi",
        "outputId": "0fca08ba-2f26-4256-f085-8271045bf475"
      },
      "execution_count": null,
      "outputs": [
        {
          "output_type": "stream",
          "name": "stdout",
          "text": [
            "✅ Retained airfoils:\n",
            "Airfoil\n",
            "NACA0018      1261\n",
            "NACA0021      1188\n",
            "NACA0015       896\n",
            "EN0005         339\n",
            "NACA0022       120\n",
            "DU06W200       107\n",
            "NACA0012        99\n",
            "DU93-W-210      74\n",
            "NACA0024        61\n",
            "NACA63-415      43\n",
            "NACA0030        32\n",
            "NACA4418        28\n",
            "NACA0025        28\n",
            "NACA4312        21\n",
            "NACA4518        20\n",
            "NACA0017        19\n",
            "S815            17\n",
            "AIR001          12\n",
            "NACA4415        10\n",
            "LS(1)-0413       8\n",
            "NACA63-218       7\n",
            "NACA63-215       7\n",
            "NACA63-418       7\n",
            "S1046            7\n",
            "NACA65-415       7\n",
            "NACA65-421       7\n",
            "NACA63-421       6\n",
            "NACA63-221       6\n",
            "LS(1)-0417       6\n",
            "NACA2415         6\n",
            "S809             5\n",
            "S1223            5\n",
            "Name: count, dtype: int64\n"
          ]
        }
      ]
    },
    {
      "cell_type": "code",
      "source": [],
      "metadata": {
        "id": "zqk2MURMbhUS"
      },
      "execution_count": null,
      "outputs": []
    }
  ]
}