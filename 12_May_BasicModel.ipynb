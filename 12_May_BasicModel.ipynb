{
  "nbformat": 4,
  "nbformat_minor": 0,
  "metadata": {
    "colab": {
      "provenance": [],
      "authorship_tag": "ABX9TyOQlOReOzgXn5WoFBDNtVmf",
      "include_colab_link": true
    },
    "kernelspec": {
      "name": "python3",
      "display_name": "Python 3"
    },
    "language_info": {
      "name": "python"
    }
  },
  "cells": [
    {
      "cell_type": "markdown",
      "metadata": {
        "id": "view-in-github",
        "colab_type": "text"
      },
      "source": [
        "<a href=\"https://colab.research.google.com/github/Elshraby/GradProj2/blob/main/12_May_BasicModel.ipynb\" target=\"_parent\"><img src=\"https://colab.research.google.com/assets/colab-badge.svg\" alt=\"Open In Colab\"/></a>"
      ]
    },
    {
      "cell_type": "code",
      "execution_count": 6,
      "metadata": {
        "id": "Dz4yoIXqebfH"
      },
      "outputs": [],
      "source": [
        "import random\n",
        "import numpy as np\n",
        "import torch\n",
        "import matplotlib.pyplot as plt\n",
        "from sklearn.model_selection import train_test_split\n",
        "\n",
        "RANDOM_SEED = 42\n",
        "random.seed(RANDOM_SEED)\n",
        "np.random.seed(RANDOM_SEED)\n",
        "torch.manual_seed(RANDOM_SEED)\n",
        "\n",
        "import pandas as pd\n",
        "import torch.nn as nn\n",
        "from torch.utils.data import Dataset, DataLoader, Subset\n",
        "\n",
        "class VAWTDataset(Dataset):\n",
        "    def __init__(self, csv_file):\n",
        "        self.data = pd.read_csv(csv_file)\n",
        "        self.data.dropna(inplace=True)\n",
        "\n",
        "        self.num_feature_columns = [\n",
        "            'Number of Blades', 'Cord Length', 'Height',\n",
        "            'Diameter', 'Pitch Angle', 'Freestream Velocity', 'Tip Speed Ratio'\n",
        "        ]\n",
        "        self.airfoil_column = 'Airfoil'\n",
        "        self.target_column = 'Power Coefficient'\n",
        "\n",
        "        self.num_features = self.data[self.num_feature_columns].values.astype(np.float32)\n",
        "        airfoil_cat = self.data[self.airfoil_column].astype('category')\n",
        "        self.airfoil_type = airfoil_cat.cat.codes.values.astype(np.int64)\n",
        "        self.airfoil_mapping = dict(enumerate(airfoil_cat.cat.categories))\n",
        "        self.targets = self.data[self.target_column].values.astype(np.float32).reshape(-1, 1)\n",
        "\n",
        "    def __len__(self):\n",
        "        return len(self.data)\n",
        "\n",
        "    def __getitem__(self, idx):\n",
        "        return {\n",
        "            'num_features': torch.tensor(self.num_features[idx]),\n",
        "            'airfoil_type': torch.tensor(self.airfoil_type[idx]),\n",
        "            'target': torch.tensor(self.targets[idx])\n",
        "        }\n",
        "\n",
        "class StandardVAWTNet(nn.Module):\n",
        "    def __init__(self, num_feature_size, airfoil_vocab_size, emb_size=4, hidden_size=128):\n",
        "        super(StandardVAWTNet, self).__init__()\n",
        "        self.airfoil_embedding = nn.Embedding(airfoil_vocab_size, emb_size)\n",
        "        input_size = num_feature_size + emb_size\n",
        "\n",
        "        self.model = nn.Sequential(\n",
        "            nn.Linear(input_size, hidden_size),\n",
        "            nn.ReLU(),\n",
        "            nn.Linear(hidden_size, hidden_size // 2),\n",
        "            nn.ReLU(),\n",
        "            nn.Linear(hidden_size // 2, 1)\n",
        "        )\n",
        "\n",
        "    def forward(self, num_features, airfoil_type):\n",
        "        emb = self.airfoil_embedding(airfoil_type)\n",
        "        combined = torch.cat([num_features, emb], dim=1)\n",
        "        return self.model(combined)"
      ]
    },
    {
      "cell_type": "code",
      "source": [
        "import torch.optim as optim\n",
        "import json\n",
        "from sklearn.metrics import mean_absolute_error, mean_squared_error, r2_score\n",
        "\n",
        "def train_model(model, train_loader, val_loader, num_epochs=500, learning_rate=1e-3):\n",
        "    criterion = nn.MSELoss()\n",
        "    optimizer = optim.Adam(model.parameters(), lr=learning_rate)\n",
        "\n",
        "    train_losses = []\n",
        "    val_losses = []\n",
        "\n",
        "    for epoch in range(num_epochs):\n",
        "        model.train()\n",
        "        running_loss = 0.0\n",
        "        for batch in train_loader:\n",
        "            inputs = batch['num_features']\n",
        "            airfoil_types = batch['airfoil_type']\n",
        "            targets = batch['target']\n",
        "\n",
        "            optimizer.zero_grad()\n",
        "            outputs = model(inputs, airfoil_types)\n",
        "            loss = criterion(outputs, targets)\n",
        "            loss.backward()\n",
        "            optimizer.step()\n",
        "            running_loss += loss.item()\n",
        "\n",
        "        train_loss = running_loss / len(train_loader)\n",
        "        train_losses.append(train_loss)\n",
        "\n",
        "        # Validation\n",
        "        model.eval()\n",
        "        val_running_loss = 0.0\n",
        "        with torch.no_grad():\n",
        "            for batch in val_loader:\n",
        "                inputs = batch['num_features']\n",
        "                airfoil_types = batch['airfoil_type']\n",
        "                targets = batch['target']\n",
        "                outputs = model(inputs, airfoil_types)\n",
        "                loss = criterion(outputs, targets)\n",
        "                val_running_loss += loss.item()\n",
        "        val_loss = val_running_loss / len(val_loader)\n",
        "        val_losses.append(val_loss)\n",
        "\n",
        "        if (epoch+1) % 50 == 0:\n",
        "            print(f\"Epoch [{epoch+1}/{num_epochs}], Train Loss: {train_loss:.6f}, Val Loss: {val_loss:.6f}\")\n",
        "\n",
        "    print(\"Training complete.\")\n",
        "\n",
        "    # Plot training and validation loss\n",
        "    plt.figure(figsize=(8, 4))\n",
        "    plt.plot(train_losses, label='Training Loss')\n",
        "    plt.plot(val_losses, label='Validation Loss')\n",
        "    plt.xlabel('Epoch')\n",
        "    plt.ylabel('Loss (MSE)')\n",
        "    plt.title('Training vs. Validation Loss')\n",
        "    plt.legend()\n",
        "    plt.grid(True)\n",
        "    plt.tight_layout()\n",
        "    plt.show()"
      ],
      "metadata": {
        "id": "3pd7Sk9KekJQ"
      },
      "execution_count": 7,
      "outputs": []
    },
    {
      "cell_type": "code",
      "source": [
        "def save_model(model, filepath='vawt_model.pth', metadata_file='model_metadata.json', **hyperparams):\n",
        "    clean_hyperparams = {k: int(v) if isinstance(v, (np.integer, np.int64)) else v for k, v in hyperparams.items()}\n",
        "    torch.save(model.state_dict(), filepath)\n",
        "    with open(metadata_file, 'w') as f:\n",
        "        json.dump(clean_hyperparams, f, indent=4)\n",
        "    print(f\"Model and metadata saved successfully.\")\n",
        "\n",
        "def load_model(model_class, model_filepath='vawt_model.pth', metadata_filepath='model_metadata.json'):\n",
        "    with open(metadata_filepath, 'r') as f:\n",
        "        hyperparams = json.load(f)\n",
        "    model = model_class(\n",
        "        num_feature_size=hyperparams[\"num_feature_size\"],\n",
        "        airfoil_vocab_size=hyperparams[\"airfoil_vocab_size\"],\n",
        "        emb_size=hyperparams[\"emb_size\"],\n",
        "        hidden_size=hyperparams[\"hidden_size\"]\n",
        "    )\n",
        "    model.load_state_dict(torch.load(model_filepath))\n",
        "    model.eval()\n",
        "    print(\"Model loaded successfully.\")\n",
        "    return model\n",
        "\n",
        "def predict(model, sample_num_features, sample_airfoil_name, airfoil_mapping):\n",
        "    code_lookup = {v: k for k, v in airfoil_mapping.items()}\n",
        "    if sample_airfoil_name not in code_lookup:\n",
        "        raise ValueError(f\"Airfoil '{sample_airfoil_name}' not recognized. Available: {list(code_lookup.keys())}\")\n",
        "    airfoil_code = code_lookup[sample_airfoil_name]\n",
        "    model.eval()\n",
        "    with torch.no_grad():\n",
        "        num_features_tensor = torch.tensor([sample_num_features], dtype=torch.float32)\n",
        "        airfoil_tensor = torch.tensor([airfoil_code], dtype=torch.int64)\n",
        "        prediction = model(num_features_tensor, airfoil_tensor)\n",
        "    return prediction.item()\n",
        "\n",
        "def evaluate_model(model, dataloader):\n",
        "    model.eval()\n",
        "    y_true = []\n",
        "    y_pred = []\n",
        "    with torch.no_grad():\n",
        "        for batch in dataloader:\n",
        "            inputs = batch['num_features']\n",
        "            airfoil_types = batch['airfoil_type']\n",
        "            targets = batch['target']\n",
        "            outputs = model(inputs, airfoil_types)\n",
        "            y_true.append(targets.numpy())\n",
        "            y_pred.append(outputs.numpy())\n",
        "    y_true = np.vstack(y_true).flatten()\n",
        "    y_pred = np.vstack(y_pred).flatten()\n",
        "    mae = mean_absolute_error(y_true, y_pred)\n",
        "    mse = mean_squared_error(y_true, y_pred)\n",
        "    rmse = np.sqrt(mse)\n",
        "    r2 = r2_score(y_true, y_pred)\n",
        "    print(f\"MAE: {mae:.6f}, MSE: {mse:.6f}, RMSE: {rmse:.6f}, R²: {r2:.6f}\")\n",
        "    return mae, mse, rmse, r2"
      ],
      "metadata": {
        "id": "o12tNDerenE_"
      },
      "execution_count": 8,
      "outputs": []
    },
    {
      "cell_type": "code",
      "source": [
        "# Load dataset\n",
        "dataset = VAWTDataset('Data.csv')\n",
        "input_dim = len(dataset.num_feature_columns)\n",
        "airfoil_vocab_size = int(dataset.airfoil_type.max()) + 1\n",
        "\n",
        "# Split indices\n",
        "indices = list(range(len(dataset)))\n",
        "train_idx, val_idx = train_test_split(indices, test_size=0.2, random_state=RANDOM_SEED)\n",
        "train_loader = DataLoader(Subset(dataset, train_idx), batch_size=32, shuffle=True)\n",
        "val_loader = DataLoader(Subset(dataset, val_idx), batch_size=32, shuffle=False)\n",
        "\n",
        "# Initialize and train model\n",
        "model = StandardVAWTNet(input_dim, airfoil_vocab_size)\n",
        "train_model(model, train_loader, val_loader, num_epochs=1000, learning_rate=1e-3)\n",
        "\n",
        "# Save model\n",
        "hyperparams = {\n",
        "    \"num_feature_size\": int(input_dim),\n",
        "    \"airfoil_vocab_size\": int(airfoil_vocab_size),\n",
        "    \"emb_size\": 4,\n",
        "    \"hidden_size\": 128,\n",
        "}\n",
        "save_model(model, **hyperparams)\n",
        "\n",
        "# Evaluate\n",
        "evaluate_model(model, val_loader)"
      ],
      "metadata": {
        "colab": {
          "base_uri": "https://localhost:8080/",
          "height": 900
        },
        "id": "PFz43Fnrerzm",
        "outputId": "a63c0f7b-01d1-4fbb-b7f5-3831e2f85f88"
      },
      "execution_count": 9,
      "outputs": [
        {
          "output_type": "stream",
          "name": "stdout",
          "text": [
            "Epoch [50/1000], Train Loss: 0.004165, Val Loss: 0.004287\n",
            "Epoch [100/1000], Train Loss: 0.002031, Val Loss: 0.002399\n",
            "Epoch [150/1000], Train Loss: 0.001322, Val Loss: 0.002253\n",
            "Epoch [200/1000], Train Loss: 0.001087, Val Loss: 0.001887\n",
            "Epoch [250/1000], Train Loss: 0.000945, Val Loss: 0.001750\n",
            "Epoch [300/1000], Train Loss: 0.000762, Val Loss: 0.001472\n",
            "Epoch [350/1000], Train Loss: 0.000605, Val Loss: 0.001371\n",
            "Epoch [400/1000], Train Loss: 0.000568, Val Loss: 0.001256\n",
            "Epoch [450/1000], Train Loss: 0.000520, Val Loss: 0.001276\n",
            "Epoch [500/1000], Train Loss: 0.000514, Val Loss: 0.001221\n",
            "Epoch [550/1000], Train Loss: 0.000476, Val Loss: 0.001121\n",
            "Epoch [600/1000], Train Loss: 0.000539, Val Loss: 0.001178\n",
            "Epoch [650/1000], Train Loss: 0.000444, Val Loss: 0.001082\n",
            "Epoch [700/1000], Train Loss: 0.000384, Val Loss: 0.001269\n",
            "Epoch [750/1000], Train Loss: 0.000377, Val Loss: 0.001137\n",
            "Epoch [800/1000], Train Loss: 0.000359, Val Loss: 0.001288\n",
            "Epoch [850/1000], Train Loss: 0.000399, Val Loss: 0.001199\n",
            "Epoch [900/1000], Train Loss: 0.000364, Val Loss: 0.001163\n",
            "Epoch [950/1000], Train Loss: 0.000365, Val Loss: 0.001252\n",
            "Epoch [1000/1000], Train Loss: 0.000360, Val Loss: 0.001109\n",
            "Training complete.\n"
          ]
        },
        {
          "output_type": "display_data",
          "data": {
            "text/plain": [
              "<Figure size 800x400 with 1 Axes>"
            ],
            "image/png": "[encoded data removed]"
          },
          "metadata": {}
        },
        {
          "output_type": "stream",
          "name": "stdout",
          "text": [
            "Model and metadata saved successfully.\n",
            "MAE: 0.020475, MSE: 0.001110, RMSE: 0.033311, R²: 0.918922\n"
          ]
        },
        {
          "output_type": "execute_result",
          "data": {
            "text/plain": [
              "(0.02047525905072689,\n",
              " 0.00110964709892869,\n",
              " np.float64(0.03331136591208307),\n",
              " 0.9189220666885376)"
            ]
          },
          "metadata": {},
          "execution_count": 9
        }
      ]
    },
    {
      "cell_type": "code",
      "source": [
        "# Reload dataset\n",
        "dataset = VAWTDataset('Data.csv')\n",
        "\n",
        "# Load model\n",
        "model = load_model(StandardVAWTNet)\n",
        "\n",
        "# Predict\n",
        "sample_num_features = [3, 0.18, 0.4, 0.42, 0, 7.0, 0.80356]\n",
        "sample_airfoil_name = \"EN0005\"\n",
        "predicted_Cp = predict(model, sample_num_features, sample_airfoil_name, dataset.airfoil_mapping)\n",
        "print(f\"Predicted Cp: {predicted_Cp:.4f}\")"
      ],
      "metadata": {
        "colab": {
          "base_uri": "https://localhost:8080/"
        },
        "id": "ilcLbVFiev7O",
        "outputId": "09b37114-1828-4378-afa2-55bc763765c5"
      },
      "execution_count": 10,
      "outputs": [
        {
          "output_type": "stream",
          "name": "stdout",
          "text": [
            "Model loaded successfully.\n",
            "Predicted Cp: 0.1451\n"
          ]
        }
      ]
    }
  ]
}